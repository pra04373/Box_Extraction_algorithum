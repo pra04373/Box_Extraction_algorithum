{
 "cells": [
  {
   "cell_type": "code",
   "execution_count": 2,
   "metadata": {},
   "outputs": [],
   "source": [
    "import pytesseract\n",
    "from PIL import Image\n",
    "import cv2\n",
    "import numpy as np\n",
    "import pandas as pd\n",
    "from PIL import Image, ImageOps, ImageFilter\n",
    "from matplotlib import pyplot as plt"
   ]
  },
  {
   "cell_type": "code",
   "execution_count": 5,
   "metadata": {},
   "outputs": [
    {
     "name": "stdout",
     "output_type": "stream",
     "text": [
      "Consider the following statements :\n",
      "\n",
      "1.\n",
      "\n",
      "U|\"II0l1 Territories are not repre-\n",
      "sented in the Rajya Sabha\n",
      "\n",
      "it is within the purview of‘ the\n",
      "Chief Election Commissioner\n",
      "in adjudicate the election\n",
      "disputes.\n",
      "\n",
      "According to the Constitution\n",
      "of India. the Parliament\n",
      "consists of the Lok Sabha and\n",
      "the Rajya Sablia only.\n",
      "\n",
      "which of the statements given\n",
      "above is/are correct‘?\n"
     ]
    },
    {
     "data": {
      "text/plain": [
       "-1"
      ]
     },
     "execution_count": 5,
     "metadata": {},
     "output_type": "execute_result"
    },
    {
     "data": {
      "image/png": "[encoded data removed]",
      "text/plain": [
       "<Figure size 432x288 with 1 Axes>"
      ]
     },
     "metadata": {
      "needs_background": "light"
     },
     "output_type": "display_data"
    }
   ],
   "source": [
    "import cv2\n",
    "import pytesseract\n",
    "\n",
    "# Read in image as grayscale\n",
    "image = cv2.imread('C:\\\\Users\\\\mypc\\\\Desktop\\\\sperated\\\\seperated_from_images\\\\QPT5\\\\7.jpg',0)\n",
    "\n",
    "# Threshold to obtain binary image\n",
    "thresh = cv2.threshold(image, 200, 255, cv2.THRESH_BINARY)[1]\n",
    "\n",
    "\n",
    "# Create custom kernel\n",
    "kernel = cv2.getStructuringElement(cv2.MORPH_RECT, (3,3))\n",
    "# Perform closing (dilation followed by erosion)\n",
    "close = cv2.morphologyEx(thresh, cv2.MORPH_CLOSE, kernel)\n",
    "\n",
    "result = 255 - close\n",
    "\n",
    "# Throw image into tesseract\n",
    "print(pytesseract.image_to_string(result))\n",
    "plt.figure()\n",
    "plt.imshow(result) \n",
    "\n",
    "cv2.waitKey()"
   ]
  },
  {
   "cell_type": "code",
   "execution_count": 7,
   "metadata": {},
   "outputs": [
    {
     "name": "stdout",
     "output_type": "stream",
     "text": [
      "Conmder the following statements :\n",
      "\n",
      "1.\n",
      "\n",
      "Union Tenitories are not repre-\n",
      "sented in the Rajya Sabha.\n",
      "\n",
      "It is within the purview of the\n",
      "Chief Election Commissioner\n",
      "to adjixdicate the election\n",
      "disputes.\n",
      "\n",
      "According to the Constitution\n",
      "of India. the Parliament\n",
      "consists of the bok Sabha and\n",
      "the Rajya Sabha only.\n",
      "\n",
      "Which of the statements given\n",
      "above is/are correct?\n"
     ]
    },
    {
     "data": {
      "text/plain": [
       "-1"
      ]
     },
     "execution_count": 7,
     "metadata": {},
     "output_type": "execute_result"
    },
    {
     "data": {
      "image/png": "[encoded data removed]",
      "text/plain": [
       "<Figure size 432x288 with 1 Axes>"
      ]
     },
     "metadata": {
      "needs_background": "light"
     },
     "output_type": "display_data"
    }
   ],
   "source": [
    "import cv2\n",
    "import pytesseract\n",
    "\n",
    "# Read in image as grayscale\n",
    "image = cv2.imread('C:\\\\Users\\\\mypc\\\\Desktop\\\\sperated\\\\seperated_from_images\\\\QPT5\\\\7.jpg',0)\n",
    "\n",
    "# Threshold to obtain binary image\n",
    "thresh = cv2.threshold(image, 208, 255, cv2.THRESH_BINARY)[1]\n",
    "\n",
    "\n",
    "# Create custom kernel\n",
    "kernel = cv2.getStructuringElement(cv2.MORPH_RECT, (3,3))\n",
    "# Perform closing (dilation followed by erosion)\n",
    "close = cv2.morphologyEx(thresh, cv2.MORPH_CLOSE, kernel)\n",
    "\n",
    "result = 255 - close\n",
    "\n",
    "# Throw image into tesseract\n",
    "print(pytesseract.image_to_string(result))\n",
    "plt.figure()\n",
    "plt.imshow(result) \n",
    "\n",
    "cv2.waitKey()"
   ]
  }
 ],
 "metadata": {
  "kernelspec": {
   "display_name": "Python 3",
   "language": "python",
   "name": "python3"
  },
  "language_info": {
   "codemirror_mode": {
    "name": "ipython",
    "version": 3
   },
   "file_extension": ".py",
   "mimetype": "text/x-python",
   "name": "python",
   "nbconvert_exporter": "python",
   "pygments_lexer": "ipython3",
   "version": "3.7.7"
  }
 },
 "nbformat": 4,
 "nbformat_minor": 4
}
